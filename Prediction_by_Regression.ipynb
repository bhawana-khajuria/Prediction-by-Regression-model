{
  "nbformat": 4,
  "nbformat_minor": 0,
  "metadata": {
    "colab": {
      "provenance": [],
      "authorship_tag": "ABX9TyM7lVD4ZmZxX3FxJlABR7tm",
      "include_colab_link": true
    },
    "kernelspec": {
      "name": "python3",
      "display_name": "Python 3"
    },
    "language_info": {
      "name": "python"
    }
  },
  "cells": [
    {
      "cell_type": "markdown",
      "metadata": {
        "id": "view-in-github",
        "colab_type": "text"
      },
      "source": [
        "<a href=\"https://colab.research.google.com/github/bhawana-khajuria/Prediction-by-Regression-model/blob/main/Prediction_by_Regression.ipynb\" target=\"_parent\"><img src=\"https://colab.research.google.com/assets/colab-badge.svg\" alt=\"Open In Colab\"/></a>"
      ]
    },
    {
      "cell_type": "code",
      "source": [
        "from sklearn.ensemble import ExtraTreesRegressor\n",
        "from sklearn.model_selection import train_test_split\n",
        "from sklearn.metrics import mean_absolute_error\n",
        "import pandas as pd\n",
        "import numpy as np"
      ],
      "metadata": {
        "id": "zyrENoErXtsi"
      },
      "execution_count": 154,
      "outputs": []
    },
    {
      "cell_type": "markdown",
      "source": [
        "**Load data**"
      ],
      "metadata": {
        "id": "MEzmU6u0hgtB"
      }
    },
    {
      "cell_type": "code",
      "source": [
        "train_df = pd.read_csv(\"train.csv\")\n",
        "test_df = pd.read_csv(\"test.csv\")\n",
        "\n",
        "\n",
        "drop_cols = ['id', 'Row#']\n",
        "X = train_df.drop(columns=drop_cols + ['yield'])\n",
        "y = train_df['yield']\n",
        "X_test = test_df.drop(columns=drop_cols)"
      ],
      "metadata": {
        "id": "BqcWQRW5X1ki"
      },
      "execution_count": 155,
      "outputs": []
    },
    {
      "cell_type": "markdown",
      "source": [
        "**Log-transform target**"
      ],
      "metadata": {
        "id": "mWB5S7Prha8s"
      }
    },
    {
      "cell_type": "code",
      "source": [
        "y_log = np.log1p(y)"
      ],
      "metadata": {
        "id": "Wei2QQLnYCtt"
      },
      "execution_count": 156,
      "outputs": []
    },
    {
      "cell_type": "markdown",
      "source": [
        "**Split data**"
      ],
      "metadata": {
        "id": "jgXBUEVhhURV"
      }
    },
    {
      "cell_type": "code",
      "source": [
        "X_train, X_val, y_train_log, y_val_log = train_test_split(X, y_log, test_size=0.2, random_state=42)\n",
        "y_val = np.expm1(y_val_log)"
      ],
      "metadata": {
        "id": "APA1OsrtXfpD"
      },
      "execution_count": 157,
      "outputs": []
    },
    {
      "cell_type": "markdown",
      "source": [
        "### **HistGBR**"
      ],
      "metadata": {
        "id": "GHWGPkQAhOpu"
      }
    },
    {
      "cell_type": "code",
      "execution_count": 158,
      "metadata": {
        "colab": {
          "base_uri": "https://localhost:8080/"
        },
        "id": "zIOhm_89W3ZR",
        "outputId": "b8517692-8e39-4a1d-c629-6389957f6e65"
      },
      "outputs": [
        {
          "output_type": "stream",
          "name": "stdout",
          "text": [
            "HistGBR MAE: 248.9169369492842\n"
          ]
        }
      ],
      "source": [
        "from sklearn.ensemble import HistGradientBoostingRegressor\n",
        "\n",
        "model = HistGradientBoostingRegressor(\n",
        "    learning_rate=0.01,\n",
        "    max_iter=1000,\n",
        "    max_depth=5,\n",
        "    l2_regularization=1.0,\n",
        "    early_stopping=True,\n",
        "    random_state=56\n",
        ")\n",
        "model.fit(X_train, y_train_log)\n",
        "\n",
        "y_pred_log = model.predict(X_val)\n",
        "y_pred = np.expm1(y_pred_log)\n",
        "y_pred = np.clip(y_pred, 0, 10000)\n",
        "\n",
        "mae = mean_absolute_error(y_val, y_pred)\n",
        "print(\"HistGBR MAE:\", mae)\n"
      ]
    },
    {
      "cell_type": "code",
      "source": [
        "submission = pd.DataFrame({\n",
        "    'id': test_df['id'],        # Ensure 'id' column exists in test_df\n",
        "    'yield': test_preds         # Your final predicted values\n",
        "})\n",
        "\n",
        "submission.to_csv(\"Bhawana_Khajuria.csv\", index=False)\n",
        "print(\"Submission file saved: Bhawana_Khajuria.csv\")"
      ],
      "metadata": {
        "colab": {
          "base_uri": "https://localhost:8080/"
        },
        "id": "o9kw3Ix3ZfwJ",
        "outputId": "5bfb8251-83a5-4379-b1af-eb2ac59c0f05"
      },
      "execution_count": 159,
      "outputs": [
        {
          "output_type": "stream",
          "name": "stdout",
          "text": [
            "Submission file saved: Bhawana_Khajuria.csv\n"
          ]
        }
      ]
    }
  ]
}